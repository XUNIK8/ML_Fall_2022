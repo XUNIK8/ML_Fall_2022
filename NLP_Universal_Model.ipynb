{
 "cells": [
  {
   "cell_type": "code",
   "execution_count": 1,
   "metadata": {
    "slideshow": {
     "slide_type": "notes"
    }
   },
   "outputs": [
    {
     "data": {
      "text/latex": [
       "$$\n",
       "\\newcommand{\\x}{\\mathbf{x}}\n",
       "\\newcommand{\\tx}{\\tilde{\\x}}\n",
       "\\newcommand{\\y}{\\mathbf{y}}\n",
       "\\newcommand{\\b}{\\mathbf{b}}\n",
       "\\newcommand{\\c}{\\mathbf{c}}\n",
       "\\newcommand{\\e}{\\mathbf{e}}\n",
       "\\newcommand{\\z}{\\mathbf{z}}\n",
       "\\newcommand{\\h}{\\mathbf{h}}\n",
       "\\newcommand{\\u}{\\mathbf{u}}\n",
       "\\newcommand{\\v}{\\mathbf{v}}\n",
       "\\newcommand{\\w}{\\mathbf{w}}\n",
       "\\newcommand{\\W}{\\mathbf{W}}\n",
       "\\newcommand{\\X}{\\mathbf{X}}\n",
       "\\newcommand{\\KL}{\\mathbf{KL}}\n",
       "\\newcommand{\\E}{{\\mathbb{E}}}\n",
       "\\newcommand{\\ip}{\\mathbf{{(i)}}}\n",
       "%\n",
       "% Test set\n",
       "\\newcommand{\\xt}{\\underline{\\x}}\n",
       "\\newcommand{\\yt}{\\underline{\\y}}\n",
       "\\newcommand{\\Xt}{\\underline{\\X}}\n",
       "\\newcommand{\\perfm}{\\mathcal{P}}\n",
       "%\n",
       "% \\ll indexes a layer; we can change the actual letter\n",
       "\\newcommand{\\ll}{l}\n",
       "\\newcommand{\\llp}{{(\\ll)}}\n",
       "%\n",
       "\\newcommand{Thetam}{\\Theta_{-0}}\n",
       "\n",
       "% CNN\n",
       "\\newcommand{\\kernel}{\\mathbf{k}} \n",
       "\\newcommand{\\dim}{d}\n",
       "\\newcommand{\\idxspatial}{{\\text{idx}}}\n",
       "\\newcommand{\\summaxact}{\\text{max}}\n",
       "%\n",
       "%\n",
       "\n",
       "% RNN\n",
       "% \\tt indexes a time step\n",
       "\\newcommand{\\tt}{t}\n",
       "\\newcommand{\\tp}{{(\\tt)}}\n",
       "%\n",
       "%\n",
       "\n",
       "% LSTM\n",
       "\\newcommand{\\g}{\\mathbf{g}}\n",
       "\\newcommand{\\remember}{\\mathbf{remember}}\n",
       "\\newcommand{\\save}{\\mathbf{save}}\n",
       "\\newcommand{\\focus}{\\mathbf{focus}}\n",
       "%\n",
       "%\n",
       "% NLP\n",
       "\\newcommand{\\Vocab}{\\mathbf{V}}\n",
       "\\newcommand{\\v}{\\mathbf{v}}\n",
       "\\newcommand{\\offset}{o}\n",
       "\\newcommand{\\o}{o}\n",
       "\\newcommand{\\E}{\\mathbf{E}}\n",
       "%\n",
       "%\n",
       "\\newcommand{\\loss}{\\mathcal{L}}\n",
       "\\newcommand{\\cost}{\\mathcal{L}}\n",
       "%\n",
       "%                     \n",
       "\\newcommand{\\pdata}{p_\\text{data}}\n",
       "\\newcommand{\\pmodel}{p_\\text{model}}\n",
       "%\n",
       "% SVM\n",
       "\\newcommand{\\margin}{{\\mathbb{m}}}\n",
       "\\newcommand{\\lmk}{\\boldsymbol{\\ell}}\n",
       "%\n",
       "% Functions with arguments\n",
       "\\def\\xsy#1#2{#1^#2}\n",
       "\\def\\rand#1{\\tilde{#1}}\n",
       "\\def\\randx{\\rand{\\x}}\n",
       "\\def\\randy{\\rand{\\y}}\n",
       "\\def\\trans#1{\\dot{#1}}\n",
       "\\def\\transx{\\trans{\\x}}\n",
       "\\def\\transy{\\trans{\\y}}\n",
       "%\n",
       "\\def\\argmax#1{\\underset{#1} {\\operatorname{argmax}} }\n",
       "\\def\\argmin#1{\\underset{#1} {\\operatorname{argmin}} }\n",
       "\\def\\max#1{\\underset{#1} {\\operatorname{max}} }\n",
       "\\def\\min#1{\\underset{#1} {\\operatorname{min}} }\n",
       "%\n",
       "\\def\\pr#1{\\mathcal{p}(#1)}\n",
       "\\def\\prc#1#2{\\mathcal{p}(#1 \\; | \\; #2)}\n",
       "\\def\\cnt#1{\\mathcal{count}_{#1}}\n",
       "\\def\\node#1{\\mathbb{#1}}\n",
       "%\n",
       "\\newcommand{\\floor}[1]{\\left\\lfloor #1 \\right\\rfloor}\n",
       "\\newcommand{\\ceil}[1]{\\left\\lceil #1 \\right\\rceil}\n",
       "%\n",
       "\\def\\loc#1{{\\text{##} {#1}}}\n",
       "%\n",
       "$$\n"
      ],
      "text/plain": [
       "<IPython.core.display.Latex object>"
      ]
     },
     "metadata": {},
     "output_type": "display_data"
    }
   ],
   "source": [
    "%run Latex_macros.ipynb"
   ]
  },
  {
   "cell_type": "markdown",
   "metadata": {
    "slideshow": {
     "slide_type": "slide"
    }
   },
   "source": [
    "# Task agnostic models\n",
    "\n",
    "Early approaches to NLP via Deep Learning created task-specific architectures.\n",
    "\n",
    "Some typical tasks\n",
    "- Classification (sentiment)\n",
    "- Entailment\n",
    "- Similarity\n",
    "- Question answering\n",
    "\n",
    "These tasks were viewed as independent and trained with task-specific architectures and training sets."
   ]
  },
  {
   "cell_type": "markdown",
   "metadata": {
    "slideshow": {
     "slide_type": "subslide"
    }
   },
   "source": [
    "But does there exist\n",
    "- a single model, trained on an extremely large dataset\n",
    "- that can be fine-tuned to solve all these tasks ?"
   ]
  },
  {
   "cell_type": "markdown",
   "metadata": {
    "slideshow": {
     "slide_type": "subslide"
    }
   },
   "source": [
    "There are several impediments that would need to be resolved.\n",
    "\n",
    "The first is the need for a Universal \"API\"\n",
    "- the shape of the input and its format differs between tasks\n",
    "\n",
    "The second is: a model is trained for a finite (often single) number of tasks.\n",
    "- How can its parameters encode \"knowledge\" of unseen tasks ?\n",
    "\n",
    "Is there a \"Universal Task\" on which we can train a model\n",
    "- such that the model can adapt to solving unseen tasks"
   ]
  },
  {
   "cell_type": "markdown",
   "metadata": {
    "slideshow": {
     "slide_type": "slide"
    }
   },
   "source": [
    "# A Universal Task: Language Modeling\n",
    "\n",
    "One candidate for the Universal Task is Language Modeling (LM)\n",
    "- predict the next word\n",
    "\n",
    "We have already seen how the Language Model was used to create Word Embeddings.\n",
    "- created representations that encoded relationships between tokens"
   ]
  },
  {
   "cell_type": "markdown",
   "metadata": {
    "slideshow": {
     "slide_type": "subslide"
    }
   },
   "source": [
    "The Language Model (predict the next word) is a particularly advantageous choice for the Universal Task.\n",
    "\n",
    "This is because large quantities of training data are readily available\n",
    "- The data does not need labels\n",
    "- The label/target for an example is just the next word in the text\n",
    "    - *semi-supervised* learning, rather than *supervised learning*\n",
    "\n",
    "There are abundant sources of text sequences\n",
    "- news, books, blogs, Wikipedia\n",
    "- not all of the same quality"
   ]
  },
  {
   "cell_type": "markdown",
   "metadata": {
    "slideshow": {
     "slide_type": "subslide"
    }
   },
   "source": [
    "Models for Language Modeling have also recently been successful in story generation\n",
    "- author \"seeds\" the story with a couple of words\n",
    "- LM extends the story, one word at a time\n",
    "\n",
    "Predicting the next word in a story requires lots of context (\"knowledge\").\n",
    "\n",
    "Consider the task of generating pseudo Shakespeare.  The generator needs to \"know\"\n",
    "- name of characters\n",
    "- location specific detail\n",
    "- plural/singular\n",
    "- gendered form\n"
   ]
  },
  {
   "cell_type": "markdown",
   "metadata": {
    "slideshow": {
     "slide_type": "subslide"
    }
   },
   "source": [
    "Contrast this to Word Embeddings, which are similar\n",
    "- Embeddings transfer *word-level* concepts\n",
    "- Language Models transfer *semantic* concepts as well as domain knowledge"
   ]
  },
  {
   "cell_type": "markdown",
   "metadata": {
    "slideshow": {
     "slide_type": "subslide"
    }
   },
   "source": [
    "This suggest that the Language Model creates representations that encode lots of context/knowledge.\n",
    "\n",
    "So to use the Universal Model concept to solves a specific task\n",
    "- Use the Universal API to transform the task input to a common format\n",
    "- Run the transformed input through a model for Language Modeling\n",
    "- Use the final latent state of the Language Model as an alternative representation of the original input\n",
    "    - this is a context/knowledge dense representation of the text    \n",
    "- Run the alternative representation through a shallow, task-specific NN\n",
    "    - \"re-shape\" the output for the requirements of the specific task\n",
    "        - e.g., a Classification task over set $C$ of classes has $|| C ||$ logits as output layer\n",
    "    - further transform the representation to adapt to domain\n",
    "   "
   ]
  },
  {
   "cell_type": "markdown",
   "metadata": {
    "slideshow": {
     "slide_type": "subslide"
    }
   },
   "source": [
    "This is basically the setup of Transfer Learning\n",
    "- Use a pre-trained model\n",
    "    - obtained at great expense/effort by *someone else*\n",
    "- Append a task specific head\n",
    "\n",
    "This approach is called *Supervised Pre-training + Fine-Tuning*\n",
    "- *Supervised Pre-Training*: the Language Model (e.g., predict the next word)\n",
    "- *Fine-Tuning*: add a task specific head and fine-tune"
   ]
  },
  {
   "cell_type": "markdown",
   "metadata": {
    "slideshow": {
     "slide_type": "subslide"
    }
   },
   "source": [
    "# A Universal API: Text to text\n",
    "\n",
    "Because each task has a very specific API (input and output format)\n",
    "- You have to translate the task-specific format into the format of the Universal Task\n",
    "- *Text to text* as a universal API\n",
    "    - transform your task into a \"predict the next\" task\n",
    "        - create a \"prompt\" (context) that describes and encodes your task\n",
    "        - the Language Model completion of the prompt is the \"solution\" to your task\n",
    " "
   ]
  },
  {
   "cell_type": "markdown",
   "metadata": {
    "slideshow": {
     "slide_type": "subslide"
    }
   },
   "source": [
    "For example:\n",
    "- Consider a Pre-Trained model that performs text completion (predict the next)\n",
    "- Turn your task into a text completion problem\n",
    "- [See Appendix G](https://arxiv.org/pdf/2005.14165.pdf#page=51) (pages 50+) for examples\n",
    "    - Note: some of the examples are really \"prompts\"\n",
    "        - e.g., seem to be multiple question/answer pairs in addition to a final question with no answer\n",
    "        - a \"prompt\" is used for zero/few shot learning\n",
    "            - the initial question/answer pairs describe the task by multiple example\n",
    "                - before asking a specific question"
   ]
  },
  {
   "cell_type": "markdown",
   "metadata": {
    "slideshow": {
     "slide_type": "subslide"
    }
   },
   "source": [
    "<center>Task: Unscramble the letters</center>\n",
    "\n",
    "|  |  |  |\n",
    "| :- | :- | --- |\n",
    "| Context: | Please unscramble the letters in the word and write that word | |\n",
    "|          | skicts = |\n",
    "| Target completion: | sticks |\n",
    "\n",
    "- The \"Unscramble the letters task\" encoded as \"predict the next\" word following the \"=\" sign"
   ]
  },
  {
   "cell_type": "markdown",
   "metadata": {
    "slideshow": {
     "slide_type": "subslide"
    }
   },
   "source": [
    "<center>Task: English to French</center>\n",
    "\n",
    "|  |  |  |\n",
    "| :- | :- | --- |\n",
    "| Context: | English: Please unscramble the letters in the word and write that word | |\n",
    "|          | French: | |\n",
    "| Target completion: | Veuillez déchiffrer les lettres du mot et écrire ce mot |\n",
    "\n",
    "- Translation task encoded as \"predict the next\" words following the \"French:\" prompt."
   ]
  },
  {
   "cell_type": "markdown",
   "metadata": {
    "slideshow": {
     "slide_type": "subslide"
    }
   },
   "source": [
    "Sometimes the task encodings are not completely obvious (see [GPT Section 3.3](https://cdn.openai.com/research-covers/language-unsupervised/language_understanding_paper.pdf))\n",
    "- Task: Are two sentences similar ?\n",
    "    - Issue\n",
    "        - There is no natural ordering of the two sentences\n",
    "        - So concatenating the two (with a delimiter) is misleading\n",
    "    - Solution\n",
    "        - Obtain two representations of the sentence pair, once for each ordering\n",
    "        - Add them together element-wise\n",
    "        - Feed sum into Classifier\n",
    "        "
   ]
  },
  {
   "cell_type": "markdown",
   "metadata": {
    "slideshow": {
     "slide_type": "subslide"
    }
   },
   "source": [
    "- Task: multiple choice questions answering: given context, question plus list of possible answers\n",
    "    - Solution:\n",
    "        - Obtain representation for each answer\n",
    "            - Concatenate (with delimiter): context, questions, answer\n",
    "        - Feed each representation into a $\\text{softmax}$ to obtain probability distribution over answers\n"
   ]
  },
  {
   "cell_type": "markdown",
   "metadata": {
    "slideshow": {
     "slide_type": "subslide"
    }
   },
   "source": [
    "<table>\n",
    "    <tr>\n",
    "        <th><center>GPT: Task encoding</center></th>\n",
    "    </tr>\n",
    "    <tr>\n",
    "        <td><img src=\"images/LM_GPT_task_encoding.png\" width=80%></td>\n",
    "    </tr>\n",
    "    <tr>\n",
    "        <td><center>Picture from: https://cdn.openai.com/research-covers/language-unsupervised/language_understanding_paper.pdf</center></td>\n",
    "    </tr>   \n",
    "</table>"
   ]
  },
  {
   "cell_type": "markdown",
   "metadata": {
    "slideshow": {
     "slide_type": "subslide"
    }
   },
   "source": [
    "# Beyond Transfer Learning: a true Universal Model\n",
    "\n",
    "The Universal API obviates the need to use a task-specific head to \"reshape\" the output\n",
    "- For example: Classification can output labels as text\n",
    "    - no need for output layer with $|| C ||$ logits\n",
    "\n",
    "Do we even need the shallow, task-specific NN appended to the Language Model ?\n",
    "\n",
    "We will address this topic in the module on Zero Shot Learning."
   ]
  },
  {
   "cell_type": "markdown",
   "metadata": {
    "slideshow": {
     "slide_type": "subslide"
    }
   },
   "source": [
    "# The future of NLP\n",
    "\n",
    "**From a very practical standpoint**\n",
    "- In the near future (maybe even now) you will not create a new model\n",
    "- You will use an existing Language Model\n",
    "    - Trained with lots of data\n",
    "    - At great cost\n",
    "- And fine-tune to your task"
   ]
  },
  {
   "cell_type": "code",
   "execution_count": 1,
   "metadata": {
    "slideshow": {
     "slide_type": "slide"
    }
   },
   "outputs": [
    {
     "name": "stdout",
     "output_type": "stream",
     "text": [
      "Done\n"
     ]
    }
   ],
   "source": [
    "print(\"Done\")"
   ]
  }
 ],
 "metadata": {
  "celltoolbar": "Slideshow",
  "kernelspec": {
   "display_name": "Python 3",
   "language": "python",
   "name": "python3"
  },
  "language_info": {
   "codemirror_mode": {
    "name": "ipython",
    "version": 3
   },
   "file_extension": ".py",
   "mimetype": "text/x-python",
   "name": "python",
   "nbconvert_exporter": "python",
   "pygments_lexer": "ipython3",
   "version": "3.7.4"
  },
  "toc": {
   "base_numbering": 1,
   "nav_menu": {},
   "number_sections": true,
   "sideBar": true,
   "skip_h1_title": false,
   "title_cell": "Table of Contents",
   "title_sidebar": "Contents",
   "toc_cell": false,
   "toc_position": {
    "height": "calc(100% - 180px)",
    "left": "10px",
    "top": "150px",
    "width": "369.594px"
   },
   "toc_section_display": true,
   "toc_window_display": true
  }
 },
 "nbformat": 4,
 "nbformat_minor": 2
}
