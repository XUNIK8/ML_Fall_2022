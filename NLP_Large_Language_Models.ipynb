{
 "cells": [
  {
   "cell_type": "code",
   "execution_count": 1,
   "metadata": {
    "slideshow": {
     "slide_type": "notes"
    }
   },
   "outputs": [
    {
     "data": {
      "text/latex": [
       "$$\n",
       "\\newcommand{\\x}{\\mathbf{x}}\n",
       "\\newcommand{\\tx}{\\tilde{\\x}}\n",
       "\\newcommand{\\y}{\\mathbf{y}}\n",
       "\\newcommand{\\b}{\\mathbf{b}}\n",
       "\\newcommand{\\c}{\\mathbf{c}}\n",
       "\\newcommand{\\e}{\\mathbf{e}}\n",
       "\\newcommand{\\z}{\\mathbf{z}}\n",
       "\\newcommand{\\h}{\\mathbf{h}}\n",
       "\\newcommand{\\u}{\\mathbf{u}}\n",
       "\\newcommand{\\v}{\\mathbf{v}}\n",
       "\\newcommand{\\w}{\\mathbf{w}}\n",
       "\\newcommand{\\W}{\\mathbf{W}}\n",
       "\\newcommand{\\X}{\\mathbf{X}}\n",
       "\\newcommand{\\KL}{\\mathbf{KL}}\n",
       "\\newcommand{\\E}{{\\mathbb{E}}}\n",
       "\\newcommand{\\ip}{\\mathbf{{(i)}}}\n",
       "%\n",
       "% Test set\n",
       "\\newcommand{\\xt}{\\underline{\\x}}\n",
       "\\newcommand{\\yt}{\\underline{\\y}}\n",
       "\\newcommand{\\Xt}{\\underline{\\X}}\n",
       "\\newcommand{\\perfm}{\\mathcal{P}}\n",
       "%\n",
       "% \\ll indexes a layer; we can change the actual letter\n",
       "\\newcommand{\\ll}{l}\n",
       "\\newcommand{\\llp}{{(\\ll)}}\n",
       "%\n",
       "\\newcommand{Thetam}{\\Theta_{-0}}\n",
       "\n",
       "% CNN\n",
       "\\newcommand{\\kernel}{\\mathbf{k}} \n",
       "\\newcommand{\\dim}{d}\n",
       "\\newcommand{\\idxspatial}{{\\text{idx}}}\n",
       "\\newcommand{\\summaxact}{\\text{max}}\n",
       "%\n",
       "%\n",
       "\n",
       "% RNN\n",
       "% \\tt indexes a time step\n",
       "\\newcommand{\\tt}{t}\n",
       "\\newcommand{\\tp}{{(\\tt)}}\n",
       "%\n",
       "%\n",
       "\n",
       "% LSTM\n",
       "\\newcommand{\\g}{\\mathbf{g}}\n",
       "\\newcommand{\\remember}{\\mathbf{remember}}\n",
       "\\newcommand{\\save}{\\mathbf{save}}\n",
       "\\newcommand{\\focus}{\\mathbf{focus}}\n",
       "%\n",
       "%\n",
       "% NLP\n",
       "\\newcommand{\\Vocab}{\\mathbf{V}}\n",
       "\\newcommand{\\v}{\\mathbf{v}}\n",
       "\\newcommand{\\offset}{o}\n",
       "\\newcommand{\\o}{o}\n",
       "\\newcommand{\\E}{\\mathbf{E}}\n",
       "%\n",
       "%\n",
       "\\newcommand{\\loss}{\\mathcal{L}}\n",
       "\\newcommand{\\cost}{\\mathcal{L}}\n",
       "%\n",
       "%                     \n",
       "\\newcommand{\\pdata}{p_\\text{data}}\n",
       "\\newcommand{\\pmodel}{p_\\text{model}}\n",
       "%\n",
       "% SVM\n",
       "\\newcommand{\\margin}{{\\mathbb{m}}}\n",
       "\\newcommand{\\lmk}{\\boldsymbol{\\ell}}\n",
       "%\n",
       "% Functions with arguments\n",
       "\\def\\xsy#1#2{#1^#2}\n",
       "\\def\\rand#1{\\tilde{#1}}\n",
       "\\def\\randx{\\rand{\\x}}\n",
       "\\def\\randy{\\rand{\\y}}\n",
       "\\def\\trans#1{\\dot{#1}}\n",
       "\\def\\transx{\\trans{\\x}}\n",
       "\\def\\transy{\\trans{\\y}}\n",
       "%\n",
       "\\def\\argmax#1{\\underset{#1} {\\operatorname{argmax}} }\n",
       "\\def\\argmin#1{\\underset{#1} {\\operatorname{argmin}} }\n",
       "\\def\\max#1{\\underset{#1} {\\operatorname{max}} }\n",
       "\\def\\min#1{\\underset{#1} {\\operatorname{min}} }\n",
       "%\n",
       "\\def\\pr#1{\\mathcal{p}(#1)}\n",
       "\\def\\prc#1#2{\\mathcal{p}(#1 \\; | \\; #2)}\n",
       "\\def\\cnt#1{\\mathcal{count}_{#1}}\n",
       "\\def\\node#1{\\mathbb{#1}}\n",
       "%\n",
       "\\newcommand{\\floor}[1]{\\left\\lfloor #1 \\right\\rfloor}\n",
       "\\newcommand{\\ceil}[1]{\\left\\lceil #1 \\right\\rceil}\n",
       "%\n",
       "\\def\\loc#1{{\\text{##} {#1}}}\n",
       "%\n",
       "$$\n"
      ],
      "text/plain": [
       "<IPython.core.display.Latex object>"
      ]
     },
     "metadata": {},
     "output_type": "display_data"
    }
   ],
   "source": [
    "%run Latex_macros.ipynb"
   ]
  },
  {
   "cell_type": "markdown",
   "metadata": {
    "slideshow": {
     "slide_type": "slide"
    }
   },
   "source": [
    "# Some Large Language Models used with Pre-training + Fine-Tuning\n",
    "\n",
    "We present a few models using this approach.\n"
   ]
  },
  {
   "cell_type": "markdown",
   "metadata": {
    "slideshow": {
     "slide_type": "slide"
    }
   },
   "source": [
    "# BERT\n",
    "\n",
    "- [paper](https://arxiv.org/pdf/1810.04805.pdf)\n",
    "- [model card](https://huggingface.co/bert-base-uncased)\n",
    "\n",
    "\n",
    "BERT (Bidirectional Encoder Representations from Transformers) is also a *fine-tuning* (universal model) approach.\n",
    "\n",
    "## Training objective\n",
    "\n",
    "BERT is trained to solve **two** tasks\n",
    "- Masked Language Modeling\n",
    "- Next sentence prediction\n",
    "    - does one sentence follow from another"
   ]
  },
  {
   "cell_type": "markdown",
   "metadata": {
    "slideshow": {
     "slide_type": "subslide"
    }
   },
   "source": [
    "The **Masked Language Model** task is a generalization of \"predict the next\" token\n",
    "- Mask (obscure) 15% of the input tokens, chosen at random\n",
    "- The method for masking takes one of three forms\n",
    "    - 80% of the time, hide it: replace with $\\text{[MASK]}$ token\n",
    "    - 10% of the time: replace it with a random word\n",
    "    - 10% of the time: don't obscure it\n",
    "    \n",
    "The training objective is to predict the masked word"
   ]
  },
  {
   "cell_type": "markdown",
   "metadata": {
    "slideshow": {
     "slide_type": "subslide"
    }
   },
   "source": [
    "The authors explain\n",
    "- Since BERT does not know which words have been masked\n",
    "- Or which of the masked words were random replacements\n",
    "- It must maintain a context for **all** tokens\n",
    "\n",
    "They also state that, since random replacement only occurs 1.5% of the time (10% * 15%), this does\n",
    "not seem to destroy language understanding"
   ]
  },
  {
   "cell_type": "markdown",
   "metadata": {
    "slideshow": {
     "slide_type": "subslide"
    }
   },
   "source": [
    "The second task is *entailment*\n",
    "- Given two sentences, does the second logically follow from the first.\n",
    "\n",
    "Perhaps this forces BERT to encode even more global context into its representations"
   ]
  },
  {
   "cell_type": "markdown",
   "metadata": {
    "slideshow": {
     "slide_type": "subslide"
    }
   },
   "source": [
    "## Training\n",
    "- BooksCorpus dataset (like GPT): 800MM words\n",
    "- Wikipedia (English): 2,500MM words\n",
    "- Training time\n",
    "    - 4 days on 64 TPU chips\n",
    "        \n",
    "See Section A.2 (\"Pre-training procedure\", page 13) for details of training\n",
    "- Optimizer: AdaM\n",
    "- Learning rate decay\n",
    "- Warmup\n"
   ]
  },
  {
   "cell_type": "markdown",
   "metadata": {
    "slideshow": {
     "slide_type": "slide"
    }
   },
   "source": [
    "## Architecture\n",
    "\n",
    "BERT is an *Encoder*.\n",
    "\n",
    "The original Transformer consistS of an\n",
    "- An Encoder which could attend to all tokens\n",
    "    - does not use *masked attention* to force causal ordering\n",
    "- A Decoder which used masking to enforce causal attention (not peeking into the future)  \n",
    "\n",
    "The Encoder allows bi-directional access to all elements of the inputs\n",
    "- is appropriate for tasks that require a context-sensitive representation of\n",
    "each input element."
   ]
  },
  {
   "cell_type": "markdown",
   "metadata": {
    "slideshow": {
     "slide_type": "subslide"
    }
   },
   "source": [
    "An Encoder is useful for tasks that require a summary of the sequence.\n",
    "\n",
    "The summary can be conceptualized as a \"sentence embedding\"\n",
    "- Sentiment\n",
    " "
   ]
  },
  {
   "cell_type": "markdown",
   "metadata": {
    "slideshow": {
     "slide_type": "subslide"
    }
   },
   "source": [
    "### BERT in action\n",
    "\n",
    "[Interactive model for MLM](https://huggingface.co/bert-base-uncased?text=Washington+is+the+%5BMASK%5D+of+the+US)"
   ]
  },
  {
   "cell_type": "markdown",
   "metadata": {
    "slideshow": {
     "slide_type": "subslide"
    }
   },
   "source": [
    "# GPT: Generalized Pre-Training\n",
    "\n",
    "GPT is a sequence of increasingly powerful (and big) models of similar architecture.\n",
    "\n",
    "It is a *Decoder*\n",
    "- Recurrent: output of time step $\\tt$ appended to input available at time step $(\\tt+1)$\n",
    "- Causal ordering of inputs\n",
    "    - Left to Right, unidirectional\n",
    "    - Implemented via Masked Self-attention\n",
    "\n",
    "A Decoder is appropriate for *generative* tasks\n",
    "- Text generation\n",
    "- Predict the next word in a sentence\n",
    "\n",
    "     "
   ]
  },
  {
   "cell_type": "markdown",
   "metadata": {
    "slideshow": {
     "slide_type": "subslide"
    }
   },
   "source": [
    "Each generation of the GPT family\n",
    "- Increases the number of Transformer blocks\n",
    "- Increases the size of the training data\n",
    "\n",
    "All models use\n",
    "- Byte Pair Encoding\n",
    "- Initial encode words with word embeddings\n",
    "\n",
    "They are all trained on a Language Model objective."
   ]
  },
  {
   "cell_type": "markdown",
   "metadata": {
    "slideshow": {
     "slide_type": "subslide"
    }
   },
   "source": [
    "<table>\n",
    "    <tr>\n",
    "        <th><center>GPT: architecture</center></th>\n",
    "    </tr>\n",
    "    <tr>\n",
    "        <td><img src=\"images/GPT_orig_arch.png\" width=50%></td>\n",
    "    </tr>\n",
    "    <tr>\n",
    "        <td><center>Picture from: https://cdn.openai.com/research-covers/language-unsupervised/language_understanding_paper.pdf</center></td>\n",
    "    </tr>   \n",
    "</table>"
   ]
  },
  {
   "cell_type": "markdown",
   "metadata": {
    "slideshow": {
     "slide_type": "subslide"
    }
   },
   "source": [
    "The models can be described as\n",
    "\n",
    "$$\n",
    "\\begin{array}[lll] \\\\\n",
    "h_0 & =  U W_e + W_p \\\\\n",
    "h_i & =  \\text{transformer_block} ( h_{i-1} ) & \\text{for }  1 \\le i \\le n\\\\\n",
    "\\pr{U} & =  \\text{softmax}( h_n  W_e^T ) \\\\\n",
    "\\end{array}\n",
    "$$\n",
    "where\n",
    "$$ \n",
    "\\begin{array}[lll] \\\\\n",
    "U   & \\text{context of size } k: [ u_{-k}, \\ldots, u_{-1} ] \\\\\n",
    "h_i & \\text{Output of transformer block } i\\\\ \n",
    "n   & \\text{number of transformer blocks/layers} \\\\\n",
    "W_e & \\text{token embedding matrix} \\\\\n",
    "W_p & \\text{position encoding matrix} \\\\\n",
    "\\end{array}\n",
    "$$"
   ]
  },
  {
   "cell_type": "markdown",
   "metadata": {
    "slideshow": {
     "slide_type": "subslide"
    }
   },
   "source": [
    "Let's understand this\n",
    "- $h_0$, the output of the input layer\n",
    "    - Uses word embeddings $W_e$ on the input $U$\n",
    "    - Adds *positional* encoding $W_p$  to the tokens\n",
    "- There are layers $h_i$ of Transformer blocks $1 \\le i \\le n$\n",
    "- The output $\\pr{U}$\n",
    "    - Takes the final layer output $h_n$\n",
    "    - Reverses the embedding $W_e^T$  to get back to original tokens\n",
    "    - Uses a $\\text{softmax}$ to get a probability distribution over the tokens $U$ \n",
    "        - Distribution over the predicted next token"
   ]
  },
  {
   "cell_type": "markdown",
   "metadata": {
    "slideshow": {
     "slide_type": "subslide"
    }
   },
   "source": [
    "The training objective is to maximize log likelihood on $\\mathcal{U}$ (a corpus of tokens)\n",
    "\n",
    "$$\n",
    "\\begin{array}[lll] \\\\\n",
    "\\mathcal{L}_1 ( \\mathcal{U} ) = \\sum_i { \\log{P( u_i | u_{i-k}, \\ldots, u_{i-1}} ; \\Theta )} \n",
    "\\end{array}\n",
    "$$"
   ]
  },
  {
   "cell_type": "markdown",
   "metadata": {
    "slideshow": {
     "slide_type": "subslide"
    }
   },
   "source": [
    "[paper](https://cdn.openai.com/research-covers/language-unsupervised/language_understanding_paper.pdf)\n",
    "\n",
    "[Summary](https://openai.com/blog/language-unsupervised/)\n",
    "- 12 Transformer blocks (37 layers)\n",
    "    - $n_\\text{heads} = 12, d_\\text{head} = 64$\n",
    "        - $d_\\text{model} = n_\\text{heads} * d_\\text{head} = 768$\n",
    "        - $d_\\text{model}$ is size\n",
    "            - representation (bottle-neck layer)\n",
    "                - fed into Dense Feed Forward layer\n",
    "- 117 million weights\n",
    "- Trained on\n",
    "    - 5GB of text (BooksCorpus dataset consisting of 7,000 books: 800MM words)\n",
    "    - Sequence of 512 tokens\n",
    "    - Training time\n",
    "        - 30 days on 8 GPUs\n",
    "        - 26 petaflop-days"
   ]
  },
  {
   "cell_type": "markdown",
   "metadata": {
    "slideshow": {
     "slide_type": "subslide"
    }
   },
   "source": [
    "See Section 4.1 (\"Model specifications\") for details of training\n",
    "- Optimizer: AdaM\n",
    "- Learning rate decay\n",
    "- Warmup\n",
    "\n",
    "We briefly introduced these concepts in earlier modules.\n",
    "\n",
    "Hopefully it is somewhat interesting to see them used in practice."
   ]
  },
  {
   "cell_type": "markdown",
   "metadata": {
    "slideshow": {
     "slide_type": "subslide"
    }
   },
   "source": [
    "Unsupervised Training is used to create the Language Model.\n",
    "\n",
    "This is followed by Fine Tuning on a smaller task-specific training set $\\mathcal{C}$\n",
    "\n",
    "This can be described as:\n",
    "- Add linear output layer $W_y$ to the model used for Language Modeling:\n",
    "- $h_l^m$ is output of transformer block $l$ on input of length $m$\n",
    "- Using $\\Theta$ from unsupervised pre-training\n",
    "- Fine Tuning Objective:\n",
    "    - maximize log likelihood on $\\mathcal{C}$\n",
    "$$\n",
    "\\begin{array}[lll] \\\\\n",
    "\\mathcal{L}_2 ( \\mathcal{C} ) = \\sum_{(\\x,\\y)} { \\pr{ \\y | \\x_1, \\ldots, \\x_m } }  = \\text{softmax}(h_l^m W_y )\n",
    "\\end{array}\n",
    "$$"
   ]
  },
  {
   "cell_type": "markdown",
   "metadata": {
    "slideshow": {
     "slide_type": "subslide"
    }
   },
   "source": [
    "The authors also experimented with a Fine Tuning Objective that included the Langauge Model\n",
    "\n",
    "$$\n",
    "\\begin{array}[lll] \\\\\n",
    "\\mathcal{L}_3 ( \\mathcal{C} )  = \\mathcal{L}_2 ( \\mathcal{C} ) + \\lambda \\mathcal{L}_1 ( \\mathcal{C} )\n",
    "\\end{array}\n",
    "$$"
   ]
  },
  {
   "cell_type": "markdown",
   "metadata": {
    "slideshow": {
     "slide_type": "subslide"
    }
   },
   "source": [
    "## Results of Supervised Pre-Training + Fine-Tuning\n",
    "\n",
    "- Tested on 12 tasks\n",
    "- Improved state-of-the-art results on 9 out of the 12"
   ]
  },
  {
   "cell_type": "code",
   "execution_count": 1,
   "metadata": {
    "slideshow": {
     "slide_type": "slide"
    }
   },
   "outputs": [
    {
     "name": "stdout",
     "output_type": "stream",
     "text": [
      "Done\n"
     ]
    }
   ],
   "source": [
    "print(\"Done\")"
   ]
  }
 ],
 "metadata": {
  "celltoolbar": "Slideshow",
  "kernelspec": {
   "display_name": "Python 3",
   "language": "python",
   "name": "python3"
  },
  "language_info": {
   "codemirror_mode": {
    "name": "ipython",
    "version": 3
   },
   "file_extension": ".py",
   "mimetype": "text/x-python",
   "name": "python",
   "nbconvert_exporter": "python",
   "pygments_lexer": "ipython3",
   "version": "3.7.4"
  },
  "toc": {
   "base_numbering": 1,
   "nav_menu": {},
   "number_sections": true,
   "sideBar": true,
   "skip_h1_title": false,
   "title_cell": "Table of Contents",
   "title_sidebar": "Contents",
   "toc_cell": false,
   "toc_position": {
    "height": "calc(100% - 180px)",
    "left": "10px",
    "top": "150px",
    "width": "369.594px"
   },
   "toc_section_display": true,
   "toc_window_display": true
  }
 },
 "nbformat": 4,
 "nbformat_minor": 2
}
